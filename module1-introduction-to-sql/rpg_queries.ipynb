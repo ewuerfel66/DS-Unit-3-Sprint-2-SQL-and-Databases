{
 "cells": [
  {
   "cell_type": "code",
   "execution_count": 5,
   "metadata": {},
   "outputs": [],
   "source": [
    "import sqlite3"
   ]
  },
  {
   "cell_type": "code",
   "execution_count": 6,
   "metadata": {},
   "outputs": [],
   "source": [
    "# Make a connection\n",
    "conn = sqlite3.connect('rpg_db.sqlite3')"
   ]
  },
  {
   "cell_type": "code",
   "execution_count": 7,
   "metadata": {},
   "outputs": [],
   "source": [
    "# Create a cursor for Character Questions\n",
    "char_curs = conn.cursor()"
   ]
  },
  {
   "cell_type": "code",
   "execution_count": 8,
   "metadata": {},
   "outputs": [
    {
     "name": "stdout",
     "output_type": "stream",
     "text": [
      "There are 302 characters\n"
     ]
    }
   ],
   "source": [
    "# How many characters?\n",
    "query = '''SELECT COUNT(character_id) FROM charactercreator_character'''\n",
    "char_curs.execute(query)\n",
    "\n",
    "# Print answer\n",
    "print('There are', char_curs.fetchone()[0], 'characters')"
   ]
  },
  {
   "cell_type": "code",
   "execution_count": 9,
   "metadata": {},
   "outputs": [
    {
     "name": "stdout",
     "output_type": "stream",
     "text": [
      "There are 108 mages\n"
     ]
    }
   ],
   "source": [
    "# How many mages?\n",
    "query = '''SELECT COUNT(character_ptr_id) FROM charactercreator_mage'''\n",
    "char_curs.execute(query)\n",
    "\n",
    "# Print answer\n",
    "print('There are', char_curs.fetchone()[0], 'mages')"
   ]
  },
  {
   "cell_type": "code",
   "execution_count": 10,
   "metadata": {},
   "outputs": [
    {
     "name": "stdout",
     "output_type": "stream",
     "text": [
      "There are 51 thieves\n"
     ]
    }
   ],
   "source": [
    "# How many thiefs?\n",
    "query = '''SELECT COUNT(character_ptr_id) FROM charactercreator_thief'''\n",
    "char_curs.execute(query)\n",
    "\n",
    "# Print answer\n",
    "print('There are', char_curs.fetchone()[0], 'thieves')"
   ]
  },
  {
   "cell_type": "code",
   "execution_count": 11,
   "metadata": {},
   "outputs": [
    {
     "name": "stdout",
     "output_type": "stream",
     "text": [
      "There are 75 clerics\n"
     ]
    }
   ],
   "source": [
    "# How many clerics?\n",
    "query = '''SELECT COUNT(character_ptr_id) FROM charactercreator_cleric'''\n",
    "char_curs.execute(query)\n",
    "\n",
    "# Print answer\n",
    "print('There are', char_curs.fetchone()[0], 'clerics')"
   ]
  },
  {
   "cell_type": "code",
   "execution_count": 12,
   "metadata": {},
   "outputs": [
    {
     "name": "stdout",
     "output_type": "stream",
     "text": [
      "There are 68 fighters\n"
     ]
    }
   ],
   "source": [
    "# How many fighters?\n",
    "query = '''SELECT COUNT(character_ptr_id) FROM charactercreator_fighter'''\n",
    "char_curs.execute(query)\n",
    "\n",
    "# Print answer\n",
    "print('There are', char_curs.fetchone()[0], 'fighters')"
   ]
  },
  {
   "cell_type": "code",
   "execution_count": 13,
   "metadata": {},
   "outputs": [],
   "source": [
    "# Create a cursor for Character Questions\n",
    "item_curs = conn.cursor()"
   ]
  },
  {
   "cell_type": "code",
   "execution_count": 14,
   "metadata": {},
   "outputs": [
    {
     "name": "stdout",
     "output_type": "stream",
     "text": [
      "There are 174 items\n"
     ]
    }
   ],
   "source": [
    "# How many items?\n",
    "query = '''SELECT COUNT(item_id) FROM armory_item'''\n",
    "item_curs.execute(query)\n",
    "\n",
    "# Print answer\n",
    "print('There are', item_curs.fetchone()[0], 'items')"
   ]
  },
  {
   "cell_type": "code",
   "execution_count": 15,
   "metadata": {},
   "outputs": [
    {
     "name": "stdout",
     "output_type": "stream",
     "text": [
      "There are 37 weapons\n"
     ]
    }
   ],
   "source": [
    "# How many weapons?\n",
    "query = '''SELECT COUNT(item_ptr_id) FROM armory_weapon'''\n",
    "item_curs.execute(query)\n",
    "\n",
    "# Print answer\n",
    "print('There are', item_curs.fetchone()[0], 'weapons')"
   ]
  },
  {
   "cell_type": "code",
   "execution_count": 16,
   "metadata": {},
   "outputs": [
    {
     "name": "stdout",
     "output_type": "stream",
     "text": [
      "137 are NOT weapons\n"
     ]
    }
   ],
   "source": [
    "# How many non-weapons\n",
    "print(174 - 37, 'are NOT weapons')"
   ]
  },
  {
   "cell_type": "code",
   "execution_count": 29,
   "metadata": {
    "scrolled": true
   },
   "outputs": [
    {
     "name": "stdout",
     "output_type": "stream",
     "text": [
      "(Character, Amount of Items)\n"
     ]
    },
    {
     "data": {
      "text/plain": [
       "[('Aliquid iste optio reiciendi', 3),\n",
       " ('Optio dolorem ex a', 3),\n",
       " ('Minus c', 2),\n",
       " ('Sit ut repr', 4),\n",
       " ('At id recusandae expl', 4),\n",
       " ('Non nobis et of', 1),\n",
       " ('Perferendis', 5),\n",
       " ('Accusantium amet quidem eve', 3),\n",
       " ('Sed nostrum inventore error m', 4),\n",
       " ('Harum repellendus omnis od', 4),\n",
       " ('Itaque ut commodi,', 3),\n",
       " ('Molestiae quis', 3),\n",
       " ('Ali', 4),\n",
       " ('Tempora quod optio possimus il', 4),\n",
       " ('Sed itaque beatae pari', 4),\n",
       " ('Quam dolor', 1),\n",
       " ('Molestias expedita', 5),\n",
       " ('Lauda', 5),\n",
       " ('Incidunt sint perferen', 3),\n",
       " ('Laboriosa', 1)]"
      ]
     },
     "execution_count": 29,
     "metadata": {},
     "output_type": "execute_result"
    }
   ],
   "source": [
    "# How many items does each character have?\n",
    "query = '''SELECT cc.name, COUNT(ci.item_id) AS items FROM charactercreator_character_inventory as ci \n",
    "JOIN charactercreator_character as cc ON cc.character_id = ci.character_id \n",
    "GROUP BY ci.character_id LIMIT 20;'''\n",
    "item_curs.execute(query)\n",
    "\n",
    "# Print answer\n",
    "print('(Character, Amount of Items)')\n",
    "item_curs.fetchall()"
   ]
  },
  {
   "cell_type": "code",
   "execution_count": 31,
   "metadata": {},
   "outputs": [
    {
     "name": "stdout",
     "output_type": "stream",
     "text": [
      "(Mean Amount of Items)\n"
     ]
    },
    {
     "data": {
      "text/plain": [
       "[(2.9735099337748343,)]"
      ]
     },
     "execution_count": 31,
     "metadata": {},
     "output_type": "execute_result"
    }
   ],
   "source": [
    "# How many items on average does each character have?\n",
    "query = '''\n",
    "SELECT AVG(items) FROM\n",
    "(SELECT cc.name, COUNT(ci.item_id) AS items FROM charactercreator_character_inventory as ci \n",
    "JOIN charactercreator_character as cc ON cc.character_id = ci.character_id \n",
    "GROUP BY ci.character_id);\n",
    "'''\n",
    "item_curs.execute(query)\n",
    "\n",
    "# Print answer\n",
    "print('(Mean Amount of Items)')\n",
    "item_curs.fetchall()"
   ]
  },
  {
   "cell_type": "code",
   "execution_count": 32,
   "metadata": {},
   "outputs": [
    {
     "name": "stdout",
     "output_type": "stream",
     "text": [
      "(Character, Amount of Weapons)\n"
     ]
    },
    {
     "data": {
      "text/plain": [
       "[('At id recusandae expl', 2),\n",
       " ('Perferendis', 1),\n",
       " ('Itaque ut commodi,', 1),\n",
       " ('Laboriosa', 1),\n",
       " ('Dolorum nam reic', 1),\n",
       " ('Repellat ad numquam volu', 1),\n",
       " ('Doloribus neque', 1),\n",
       " ('Ab voluptas se', 3),\n",
       " ('In pariatur corpori', 2),\n",
       " ('Possimus ad dignissimos vel, a', 1),\n",
       " ('Ad necess', 1),\n",
       " ('Voluptates sunt voluptas volu', 1),\n",
       " ('Autem mollitia fuga lauda', 2),\n",
       " ('Sint quibusdam ob', 3),\n",
       " ('Rerum et o', 2),\n",
       " ('Doloribus dolore r', 2),\n",
       " ('Eaque su', 2),\n",
       " ('Vel molestias numqua', 1),\n",
       " ('Iste assumenda repellat q', 1),\n",
       " ('Quod tempora', 1)]"
      ]
     },
     "execution_count": 32,
     "metadata": {},
     "output_type": "execute_result"
    }
   ],
   "source": [
    "# How many weapons does each character have?\n",
    "query = '''\n",
    "SELECT ccc.name, COUNT(aw.item_ptr_id) AS weapons\n",
    "FROM charactercreator_character AS ccc,\n",
    "charactercreator_character_inventory AS cci,\n",
    "armory_item as ai,\n",
    "armory_weapon as aw\n",
    "WHERE ccc.character_id = cci.character_id\n",
    "AND cci.item_id = ai.item_id\n",
    "AND ai.item_id = aw.item_ptr_id\n",
    "GROUP BY ccc.character_id\n",
    "LIMIT 20;\n",
    "'''\n",
    "item_curs.execute(query)\n",
    "\n",
    "# Print answer\n",
    "print('(Character, Amount of Weapons)')\n",
    "item_curs.fetchall()"
   ]
  },
  {
   "cell_type": "code",
   "execution_count": 33,
   "metadata": {},
   "outputs": [
    {
     "name": "stdout",
     "output_type": "stream",
     "text": [
      "(Mean Amount of Weapons)\n"
     ]
    },
    {
     "data": {
      "text/plain": [
       "[(1.3096774193548386,)]"
      ]
     },
     "execution_count": 33,
     "metadata": {},
     "output_type": "execute_result"
    }
   ],
   "source": [
    "# How many items does each character have on average?\n",
    "query = '''\n",
    "SELECT AVG(weapons) FROM\n",
    "(SELECT ccc.name, COUNT(aw.item_ptr_id) AS weapons\n",
    "FROM charactercreator_character AS ccc,\n",
    "charactercreator_character_inventory AS cci,\n",
    "armory_item as ai,\n",
    "armory_weapon as aw\n",
    "WHERE ccc.character_id = cci.character_id\n",
    "AND cci.item_id = ai.item_id\n",
    "AND ai.item_id = aw.item_ptr_id\n",
    "GROUP BY ccc.character_id);\n",
    "'''\n",
    "item_curs.execute(query)\n",
    "\n",
    "# Print answer\n",
    "print('(Mean Amount of Weapons)')\n",
    "item_curs.fetchall()"
   ]
  },
  {
   "cell_type": "code",
   "execution_count": null,
   "metadata": {},
   "outputs": [],
   "source": []
  }
 ],
 "metadata": {
  "kernelspec": {
   "display_name": "Python 3",
   "language": "python",
   "name": "python3"
  },
  "language_info": {
   "codemirror_mode": {
    "name": "ipython",
    "version": 3
   },
   "file_extension": ".py",
   "mimetype": "text/x-python",
   "name": "python",
   "nbconvert_exporter": "python",
   "pygments_lexer": "ipython3",
   "version": "3.7.3"
  }
 },
 "nbformat": 4,
 "nbformat_minor": 2
}
