{
 "cells": [
  {
   "cell_type": "code",
   "execution_count": 1,
   "metadata": {},
   "outputs": [
    {
     "name": "stdout",
     "output_type": "stream",
     "text": [
      "Requirement already satisfied: psycopg2-binary in /home/eric/anaconda3/lib/python3.7/site-packages (2.8.3)\r\n"
     ]
    }
   ],
   "source": [
    "!pip install psycopg2-binary"
   ]
  },
  {
   "cell_type": "code",
   "execution_count": 2,
   "metadata": {},
   "outputs": [],
   "source": [
    "import pandas as pd\n",
    "import psycopg2"
   ]
  },
  {
   "cell_type": "code",
   "execution_count": 3,
   "metadata": {},
   "outputs": [],
   "source": [
    "# Credentials\n",
    "dbname = 'wifeyudd'\n",
    "user = 'wifeyudd'\n",
    "password = 'nSmG8Gl4wAtWglk2U2swUi_iMdOjzS30' # Don't commit this!\n",
    "host = 'raja.db.elephantsql.com'"
   ]
  },
  {
   "cell_type": "code",
   "execution_count": 4,
   "metadata": {},
   "outputs": [],
   "source": [
    "# Establish connection\n",
    "pg_conn = psycopg2.connect(dbname=dbname, user=user,\n",
    "                       password=password, host=host)"
   ]
  },
  {
   "cell_type": "code",
   "execution_count": 5,
   "metadata": {},
   "outputs": [],
   "source": [
    "# Instantiate cursor\n",
    "pg_curs = pg_conn.cursor()"
   ]
  },
  {
   "cell_type": "code",
   "execution_count": 6,
   "metadata": {},
   "outputs": [
    {
     "name": "stdout",
     "output_type": "stream",
     "text": [
      "Survived: 342\n"
     ]
    }
   ],
   "source": [
    "# How many survived?\n",
    "query = \"\"\"SELECT COUNT(id) FROM titanic\n",
    "WHERE survived = 1;\"\"\"\n",
    "\n",
    "# Execute\n",
    "pg_curs.execute(query)\n",
    "\n",
    "# Print answer\n",
    "print('Survived:', pg_curs.fetchone()[0])"
   ]
  },
  {
   "cell_type": "code",
   "execution_count": 7,
   "metadata": {},
   "outputs": [
    {
     "name": "stdout",
     "output_type": "stream",
     "text": [
      "Died: 545\n"
     ]
    }
   ],
   "source": [
    "# How many didn't survived?\n",
    "query = \"\"\"SELECT COUNT(id) FROM titanic\n",
    "WHERE survived = 0;\"\"\"\n",
    "\n",
    "# Execute\n",
    "pg_curs.execute(query)\n",
    "\n",
    "# Print answer\n",
    "print('Died:', pg_curs.fetchone()[0])"
   ]
  },
  {
   "cell_type": "code",
   "execution_count": 8,
   "metadata": {},
   "outputs": [
    {
     "name": "stdout",
     "output_type": "stream",
     "text": [
      "(Class, Count)\n"
     ]
    },
    {
     "data": {
      "text/plain": [
       "[(1, 216), (2, 184), (3, 487)]"
      ]
     },
     "execution_count": 8,
     "metadata": {},
     "output_type": "execute_result"
    }
   ],
   "source": [
    "# Count for each class\n",
    "query = \"\"\"SELECT class, COUNT(*) FROM titanic\n",
    "GROUP BY class\n",
    "ORDER BY class;\"\"\"\n",
    "\n",
    "# Execute\n",
    "pg_curs.execute(query)\n",
    "\n",
    "# Print answer\n",
    "print('(Class, Count)')\n",
    "pg_curs.fetchall()"
   ]
  },
  {
   "cell_type": "code",
   "execution_count": 9,
   "metadata": {},
   "outputs": [
    {
     "name": "stdout",
     "output_type": "stream",
     "text": [
      "Average age of those who survived:\n"
     ]
    },
    {
     "data": {
      "text/plain": [
       "Decimal('28.3918128654970760')"
      ]
     },
     "execution_count": 9,
     "metadata": {},
     "output_type": "execute_result"
    }
   ],
   "source": [
    "# Ave age for survived?\n",
    "query = \"\"\"SELECT AVG(age) FROM titanic\n",
    "WHERE survived =1;\"\"\"\n",
    "\n",
    "# Execute\n",
    "pg_curs.execute(query)\n",
    "\n",
    "# Print answer\n",
    "print('Average age of those who survived:')\n",
    "pg_curs.fetchone()[0]"
   ]
  },
  {
   "cell_type": "code",
   "execution_count": 10,
   "metadata": {},
   "outputs": [
    {
     "name": "stdout",
     "output_type": "stream",
     "text": [
      "Average age of those who died:\n"
     ]
    },
    {
     "data": {
      "text/plain": [
       "Decimal('30.1229357798165138')"
      ]
     },
     "execution_count": 10,
     "metadata": {},
     "output_type": "execute_result"
    }
   ],
   "source": [
    "# Ave age for died?\n",
    "query = \"\"\"SELECT AVG(age) FROM titanic\n",
    "WHERE survived =0;\"\"\"\n",
    "\n",
    "# Execute\n",
    "pg_curs.execute(query)\n",
    "\n",
    "# Print answer\n",
    "print('Average age of those who died:')\n",
    "pg_curs.fetchone()[0]"
   ]
  },
  {
   "cell_type": "code",
   "execution_count": 11,
   "metadata": {},
   "outputs": [
    {
     "name": "stdout",
     "output_type": "stream",
     "text": [
      "(Class, Average Age)\n"
     ]
    },
    {
     "data": {
      "text/plain": [
       "[(1, Decimal('38.7824074074074074')),\n",
       " (2, Decimal('29.8478260869565217')),\n",
       " (3, Decimal('25.1704312114989733'))]"
      ]
     },
     "execution_count": 11,
     "metadata": {},
     "output_type": "execute_result"
    }
   ],
   "source": [
    "# Ave age by class\n",
    "query = \"\"\"SELECT class, AVG(age) FROM titanic\n",
    "GROUP BY class\n",
    "ORDER BY class;\"\"\"\n",
    "\n",
    "# Execute\n",
    "pg_curs.execute(query)\n",
    "\n",
    "# Print answer\n",
    "print('(Class, Average Age)')\n",
    "pg_curs.fetchall()"
   ]
  },
  {
   "cell_type": "code",
   "execution_count": 12,
   "metadata": {},
   "outputs": [
    {
     "name": "stdout",
     "output_type": "stream",
     "text": [
      "(Class, Average Fare)\n"
     ]
    },
    {
     "data": {
      "text/plain": [
       "[(1, 84.1546874999999), (2, 20.6621831521739), (3, 13.7077073921971)]"
      ]
     },
     "execution_count": 12,
     "metadata": {},
     "output_type": "execute_result"
    }
   ],
   "source": [
    "# Ave fare by class\n",
    "query = \"\"\"SELECT class, AVG(fare) FROM titanic\n",
    "GROUP BY class\n",
    "ORDER BY class;\"\"\"\n",
    "\n",
    "# Execute\n",
    "pg_curs.execute(query)\n",
    "\n",
    "# Print answer\n",
    "print('(Class, Average Fare)')\n",
    "pg_curs.fetchall()"
   ]
  },
  {
   "cell_type": "code",
   "execution_count": 13,
   "metadata": {},
   "outputs": [
    {
     "name": "stdout",
     "output_type": "stream",
     "text": [
      "(Survival Status, Average Fare)\n"
     ]
    },
    {
     "data": {
      "text/plain": [
       "[(0, 22.2085840366972), (1, 48.3954076023392)]"
      ]
     },
     "execution_count": 13,
     "metadata": {},
     "output_type": "execute_result"
    }
   ],
   "source": [
    "# Ave fare by survival status\n",
    "query = \"\"\"SELECT survived, AVG(fare) FROM titanic\n",
    "GROUP BY survived\n",
    "ORDER BY survived;\"\"\"\n",
    "\n",
    "# Execute\n",
    "pg_curs.execute(query)\n",
    "\n",
    "# Print answer\n",
    "print('(Survival Status, Average Fare)')\n",
    "pg_curs.fetchall()"
   ]
  },
  {
   "cell_type": "code",
   "execution_count": 14,
   "metadata": {},
   "outputs": [
    {
     "name": "stdout",
     "output_type": "stream",
     "text": [
      "(Class, Average Spouses & Siblings)\n"
     ]
    },
    {
     "data": {
      "text/plain": [
       "[(1, Decimal('0.41666666666666666667')),\n",
       " (2, Decimal('0.40217391304347826087')),\n",
       " (3, Decimal('0.62012320328542094456'))]"
      ]
     },
     "execution_count": 14,
     "metadata": {},
     "output_type": "execute_result"
    }
   ],
   "source": [
    "# Ave siblings & spouses by class\n",
    "query = \"\"\"SELECT class, AVG(sibling_spouse) FROM titanic\n",
    "GROUP BY class\n",
    "ORDER BY class;\"\"\"\n",
    "\n",
    "# Execute\n",
    "pg_curs.execute(query)\n",
    "\n",
    "# Print answer\n",
    "print('(Class, Average Spouses & Siblings)')\n",
    "pg_curs.fetchall()"
   ]
  },
  {
   "cell_type": "code",
   "execution_count": 15,
   "metadata": {},
   "outputs": [
    {
     "name": "stdout",
     "output_type": "stream",
     "text": [
      "(Survival Status, Average Spouses & Siblings)\n"
     ]
    },
    {
     "data": {
      "text/plain": [
       "[(0, Decimal('0.55779816513761467890')),\n",
       " (1, Decimal('0.47368421052631578947'))]"
      ]
     },
     "execution_count": 15,
     "metadata": {},
     "output_type": "execute_result"
    }
   ],
   "source": [
    "# Ave siblings & spouses by survival status\n",
    "query = \"\"\"SELECT survived, AVG(sibling_spouse) FROM titanic\n",
    "GROUP BY survived\n",
    "ORDER BY survived;\"\"\"\n",
    "\n",
    "# Execute\n",
    "pg_curs.execute(query)\n",
    "\n",
    "# Print answer\n",
    "print('(Survival Status, Average Spouses & Siblings)')\n",
    "pg_curs.fetchall()"
   ]
  },
  {
   "cell_type": "code",
   "execution_count": 16,
   "metadata": {},
   "outputs": [
    {
     "name": "stdout",
     "output_type": "stream",
     "text": [
      "(Class, Average Parents & Children)\n"
     ]
    },
    {
     "data": {
      "text/plain": [
       "[(1, Decimal('0.35648148148148148148')),\n",
       " (2, Decimal('0.38043478260869565217')),\n",
       " (3, Decimal('0.39630390143737166324'))]"
      ]
     },
     "execution_count": 16,
     "metadata": {},
     "output_type": "execute_result"
    }
   ],
   "source": [
    "# Ave parents & children by class\n",
    "query = \"\"\"SELECT class, AVG(parent_children) FROM titanic\n",
    "GROUP BY class\n",
    "ORDER BY class;\"\"\"\n",
    "\n",
    "# Execute\n",
    "pg_curs.execute(query)\n",
    "\n",
    "# Print answer\n",
    "print('(Class, Average Parents & Children)')\n",
    "pg_curs.fetchall()"
   ]
  },
  {
   "cell_type": "code",
   "execution_count": 17,
   "metadata": {},
   "outputs": [
    {
     "name": "stdout",
     "output_type": "stream",
     "text": [
      "(Survival Status, Average Parents & Children)\n"
     ]
    },
    {
     "data": {
      "text/plain": [
       "[(0, Decimal('0.33211009174311926606')),\n",
       " (1, Decimal('0.46491228070175438596'))]"
      ]
     },
     "execution_count": 17,
     "metadata": {},
     "output_type": "execute_result"
    }
   ],
   "source": [
    "# Ave parents & children by survival status\n",
    "query = \"\"\"SELECT survived, AVG(parent_children) FROM titanic\n",
    "GROUP BY survived\n",
    "ORDER BY survived;\"\"\"\n",
    "\n",
    "# Execute\n",
    "pg_curs.execute(query)\n",
    "\n",
    "# Print answer\n",
    "print('(Survival Status, Average Parents & Children)')\n",
    "pg_curs.fetchall()"
   ]
  },
  {
   "cell_type": "code",
   "execution_count": 21,
   "metadata": {},
   "outputs": [
    {
     "name": "stdout",
     "output_type": "stream",
     "text": [
      "Anybody with the same name?\n",
      "Nope\n"
     ]
    }
   ],
   "source": [
    "# Same name?\n",
    "query = \"\"\"SELECT name FROM\n",
    "(SELECT name, COUNT(name) FROM titanic\n",
    "GROUP BY name) AS name_counts\n",
    "WHERE count > 1;\"\"\"\n",
    "\n",
    "# Execute\n",
    "pg_curs.execute(query)\n",
    "\n",
    "# Print answer\n",
    "print('Anybody with the same name?')\n",
    "if pg_curs.fetchall() == []:\n",
    "    print('Nope')\n",
    "else:\n",
    "    print('Yep')"
   ]
  }
 ],
 "metadata": {
  "kernelspec": {
   "display_name": "Python 3",
   "language": "python",
   "name": "python3"
  },
  "language_info": {
   "codemirror_mode": {
    "name": "ipython",
    "version": 3
   },
   "file_extension": ".py",
   "mimetype": "text/x-python",
   "name": "python",
   "nbconvert_exporter": "python",
   "pygments_lexer": "ipython3",
   "version": "3.7.3"
  }
 },
 "nbformat": 4,
 "nbformat_minor": 2
}
