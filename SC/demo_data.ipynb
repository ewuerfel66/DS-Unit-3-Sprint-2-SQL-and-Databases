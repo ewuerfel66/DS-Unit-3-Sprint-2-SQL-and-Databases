{
 "cells": [
  {
   "cell_type": "code",
   "execution_count": 1,
   "metadata": {},
   "outputs": [],
   "source": [
    "import sqlite3"
   ]
  },
  {
   "cell_type": "code",
   "execution_count": 2,
   "metadata": {},
   "outputs": [],
   "source": [
    "# Make a connection\n",
    "conn = sqlite3.connect('demo_data.sqlite3')"
   ]
  },
  {
   "cell_type": "code",
   "execution_count": 3,
   "metadata": {},
   "outputs": [],
   "source": [
    "# Create a cursor\n",
    "curs = conn.cursor()"
   ]
  },
  {
   "cell_type": "code",
   "execution_count": 9,
   "metadata": {},
   "outputs": [
    {
     "data": {
      "text/plain": [
       "<sqlite3.Cursor at 0x7fd1b87b3ea0>"
      ]
     },
     "execution_count": 9,
     "metadata": {},
     "output_type": "execute_result"
    }
   ],
   "source": [
    "# Create a table\n",
    "query = '''CREATE TABLE demo (s TEXT,\n",
    "                              x NUMERIC,\n",
    "                              Y numeric);'''\n",
    "curs.execute(query)"
   ]
  },
  {
   "cell_type": "code",
   "execution_count": 10,
   "metadata": {},
   "outputs": [
    {
     "data": {
      "text/plain": [
       "<sqlite3.Cursor at 0x7fd1b87b3ea0>"
      ]
     },
     "execution_count": 10,
     "metadata": {},
     "output_type": "execute_result"
    }
   ],
   "source": [
    "# Insert Rows\n",
    "query = '''INSERT INTO demo VALUES ('g', 3, 9);'''\n",
    "curs.execute(query)"
   ]
  },
  {
   "cell_type": "code",
   "execution_count": 11,
   "metadata": {},
   "outputs": [
    {
     "data": {
      "text/plain": [
       "<sqlite3.Cursor at 0x7fd1b87b3ea0>"
      ]
     },
     "execution_count": 11,
     "metadata": {},
     "output_type": "execute_result"
    }
   ],
   "source": [
    "# Insert Rows\n",
    "query = '''INSERT INTO demo VALUES ('v', 5, 7);'''\n",
    "curs.execute(query)"
   ]
  },
  {
   "cell_type": "code",
   "execution_count": 12,
   "metadata": {},
   "outputs": [
    {
     "data": {
      "text/plain": [
       "<sqlite3.Cursor at 0x7fd1b87b3ea0>"
      ]
     },
     "execution_count": 12,
     "metadata": {},
     "output_type": "execute_result"
    }
   ],
   "source": [
    "# Insert Rows\n",
    "query = '''INSERT INTO demo VALUES ('f', 8, 7);'''\n",
    "curs.execute(query)"
   ]
  },
  {
   "cell_type": "code",
   "execution_count": 13,
   "metadata": {},
   "outputs": [
    {
     "data": {
      "text/plain": [
       "[('g', 3, 9), ('v', 5, 7), ('f', 8, 7)]"
      ]
     },
     "execution_count": 13,
     "metadata": {},
     "output_type": "execute_result"
    }
   ],
   "source": [
    "# Check\n",
    "query = '''SELECT * FROM demo;'''\n",
    "curs.execute(query)\n",
    "curs.fetchall()"
   ]
  },
  {
   "cell_type": "code",
   "execution_count": 14,
   "metadata": {},
   "outputs": [],
   "source": [
    "# Close connection\n",
    "curs.close()\n",
    "conn.commit()"
   ]
  },
  {
   "cell_type": "code",
   "execution_count": 16,
   "metadata": {},
   "outputs": [],
   "source": [
    "# Reopen connection and cursor\n",
    "conn = sqlite3.connect('demo_data.sqlite3')\n",
    "curs = conn.cursor()"
   ]
  },
  {
   "cell_type": "code",
   "execution_count": 17,
   "metadata": {},
   "outputs": [
    {
     "name": "stdout",
     "output_type": "stream",
     "text": [
      "There are 3 rows.\n"
     ]
    }
   ],
   "source": [
    "# How many rows?\n",
    "query = '''SELECT COUNT(*) FROM demo;'''\n",
    "curs.execute(query)\n",
    "\n",
    "# Print answer\n",
    "print('There are', curs.fetchone()[0], 'rows.')"
   ]
  },
  {
   "cell_type": "code",
   "execution_count": 20,
   "metadata": {},
   "outputs": [
    {
     "name": "stdout",
     "output_type": "stream",
     "text": [
      "There are 2 rows where x and y are at least 5.\n"
     ]
    }
   ],
   "source": [
    "# How many rows where x & y are at least 5?\n",
    "query = '''SELECT COUNT(*) FROM demo\n",
    "WHERE x >= 5\n",
    "AND y >= 5;'''\n",
    "curs.execute(query)\n",
    "\n",
    "# Print answer\n",
    "print('There are', curs.fetchone()[0], 'rows where x and y are at least 5.')"
   ]
  },
  {
   "cell_type": "code",
   "execution_count": 21,
   "metadata": {},
   "outputs": [
    {
     "name": "stdout",
     "output_type": "stream",
     "text": [
      "There are 2 unique values of y.\n"
     ]
    }
   ],
   "source": [
    "# How many unique values of y are there\n",
    "query = '''SELECT COUNT(DISTINCT y) FROM demo;'''\n",
    "curs.execute(query)\n",
    "\n",
    "# Print answer\n",
    "print('There are', curs.fetchone()[0], 'unique values of y.')"
   ]
  },
  {
   "cell_type": "code",
   "execution_count": 22,
   "metadata": {},
   "outputs": [
    {
     "data": {
      "text/plain": [
       "<sqlite3.Cursor at 0x7fd1b86f17a0>"
      ]
     },
     "execution_count": 22,
     "metadata": {},
     "output_type": "execute_result"
    }
   ],
   "source": [
    "##### DANGER ###########\n",
    "# query = '''DROP TABLE demo;'''\n",
    "# curs.execute(query)"
   ]
  }
 ],
 "metadata": {
  "kernelspec": {
   "display_name": "Python 3",
   "language": "python",
   "name": "python3"
  },
  "language_info": {
   "codemirror_mode": {
    "name": "ipython",
    "version": 3
   },
   "file_extension": ".py",
   "mimetype": "text/x-python",
   "name": "python",
   "nbconvert_exporter": "python",
   "pygments_lexer": "ipython3",
   "version": "3.7.3"
  }
 },
 "nbformat": 4,
 "nbformat_minor": 2
}
