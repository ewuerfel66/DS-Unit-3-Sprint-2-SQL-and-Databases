{
 "cells": [
  {
   "cell_type": "code",
   "execution_count": 1,
   "metadata": {},
   "outputs": [],
   "source": [
    "import sqlite3"
   ]
  },
  {
   "cell_type": "code",
   "execution_count": 3,
   "metadata": {},
   "outputs": [],
   "source": [
    "# Make cursor & connection\n",
    "conn = sqlite3.connect('northwind_small.sqlite3')\n",
    "curs = conn.cursor()"
   ]
  },
  {
   "cell_type": "code",
   "execution_count": 11,
   "metadata": {},
   "outputs": [
    {
     "name": "stdout",
     "output_type": "stream",
     "text": [
      "(Product, Unit Price) [('Côte de Blaye', 263.5), ('Thüringer Rostbratwurst', 123.79), ('Mishi Kobe Niku', 97), (\"Sir Rodney's Marmalade\", 81), ('Carnarvon Tigers', 62.5), ('Raclette Courdavault', 55), ('Manjimup Dried Apples', 53), ('Tarte au sucre', 49.3), ('Ipoh Coffee', 46), ('Rössle Sauerkraut', 45.6)]\n"
     ]
    }
   ],
   "source": [
    "# What are the 10 most expensive items?\n",
    "query = \"\"\"SELECT ProductName, UnitPrice FROM Product\n",
    "ORDER BY UnitPrice DESC\n",
    "LIMIT 10;\"\"\"\n",
    "\n",
    "curs.execute(query)\n",
    "\n",
    "print('(Product, Unit Price)', curs.fetchall())"
   ]
  },
  {
   "cell_type": "code",
   "execution_count": 12,
   "metadata": {},
   "outputs": [
    {
     "name": "stdout",
     "output_type": "stream",
     "text": [
      "Average Hire Age: (37.22222222222222,)\n"
     ]
    }
   ],
   "source": [
    "# Average age of employee at time of hiring\n",
    "query = \"\"\"SELECT AVG(HireDate - BirthDate) AS AvgHiringAge FROM Employee;\"\"\"\n",
    "\n",
    "curs.execute(query)\n",
    "\n",
    "print('Average Hire Age:', curs.fetchall()[0])"
   ]
  },
  {
   "cell_type": "code",
   "execution_count": 16,
   "metadata": {},
   "outputs": [
    {
     "name": "stdout",
     "output_type": "stream",
     "text": [
      "(City, Average Hire Age) [('Redmond', 56.0), ('Seattle', 40.0), ('Tacoma', 40.0), ('London', 32.5), ('Kirkland', 29.0)]\n"
     ]
    }
   ],
   "source": [
    "# Average age of employee at time of hiring by City\n",
    "query = \"\"\"SELECT City, AVG(HireDate - BirthDate) AS AvgHiringAge FROM Employee\n",
    "GROUP BY City\n",
    "ORDER BY AvgHiringAge DESC;\"\"\"\n",
    "\n",
    "curs.execute(query)\n",
    "\n",
    "print('(City, Average Hire Age)', curs.fetchall())"
   ]
  },
  {
   "cell_type": "code",
   "execution_count": 14,
   "metadata": {},
   "outputs": [
    {
     "name": "stdout",
     "output_type": "stream",
     "text": [
      "(Supplier, Product, Unit Price) [('Aux joyeux ecclésiastiques', 'Côte de Blaye', 263.5), ('Plutzer Lebensmittelgroßmärkte AG', 'Thüringer Rostbratwurst', 123.79), ('Tokyo Traders', 'Mishi Kobe Niku', 97), ('Specialty Biscuits, Ltd.', \"Sir Rodney's Marmalade\", 81), ('Pavlova, Ltd.', 'Carnarvon Tigers', 62.5), ('Gai pâturage', 'Raclette Courdavault', 55), (\"G'day, Mate\", 'Manjimup Dried Apples', 53), (\"Forêts d'érables\", 'Tarte au sucre', 49.3), ('Leka Trading', 'Ipoh Coffee', 46), ('Plutzer Lebensmittelgroßmärkte AG', 'Rössle Sauerkraut', 45.6)]\n"
     ]
    }
   ],
   "source": [
    "# What are the 10 most expensive items and the supplier?\n",
    "query = \"\"\"SELECT CompanyName AS Supplier, ProductName, UnitPrice FROM Product, Supplier\n",
    "WHERE Product.SupplierId = Supplier.Id\n",
    "ORDER BY UnitPrice DESC\n",
    "LIMIT 10;\"\"\"\n",
    "\n",
    "curs.execute(query)\n",
    "\n",
    "print('(Supplier, Product, Unit Price)', curs.fetchall())"
   ]
  },
  {
   "cell_type": "code",
   "execution_count": 17,
   "metadata": {},
   "outputs": [
    {
     "name": "stdout",
     "output_type": "stream",
     "text": [
      "Largest Category by Unique Items:\n",
      "(Category, Count of Items) [('Confections', 13)]\n"
     ]
    }
   ],
   "source": [
    "# What is the largest category?\n",
    "query = \"\"\"SELECT CategoryName, MAX(Items) FROM\n",
    "(SELECT Category.CategoryName, COUNT(Product.Id) AS Items\n",
    "FROM Category, Product\n",
    "WHERE Category.Id = Product.CategoryId\n",
    "GROUP BY Category.Id);\"\"\"\n",
    "\n",
    "curs.execute(query)\n",
    "\n",
    "print('Largest Category by Unique Items:')\n",
    "print('(Category, Count of Items)', curs.fetchall())"
   ]
  }
 ],
 "metadata": {
  "kernelspec": {
   "display_name": "Python 3",
   "language": "python",
   "name": "python3"
  },
  "language_info": {
   "codemirror_mode": {
    "name": "ipython",
    "version": 3
   },
   "file_extension": ".py",
   "mimetype": "text/x-python",
   "name": "python",
   "nbconvert_exporter": "python",
   "pygments_lexer": "ipython3",
   "version": "3.7.3"
  }
 },
 "nbformat": 4,
 "nbformat_minor": 2
}
